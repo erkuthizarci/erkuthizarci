{
 "cells": [
  {
   "cell_type": "markdown",
   "id": "324ea017",
   "metadata": {},
   "source": [
    "# Web Scraping Lab"
   ]
  },
  {
   "cell_type": "markdown",
   "id": "362fc332",
   "metadata": {},
   "source": [
    "Objectives\n",
    "After completing this lab you will be:\n",
    "\n",
    "Familiar with the basics of the BeautifulSoup Python library\n",
    "Be able to scrape webpages for data and filter the data"
   ]
  },
  {
   "cell_type": "markdown",
   "id": "45391f52",
   "metadata": {},
   "source": [
    "# Table of Contents"
   ]
  },
  {
   "cell_type": "raw",
   "id": "1606c0b8",
   "metadata": {},
   "source": [
    "Beautiful Soup Object\n",
    "Tag\n",
    "Children, Parents, and Siblings\n",
    "HTML Attributes\n",
    "Navigable String\n",
    "Filter\n",
    "find All\n",
    "find\n",
    "HTML Attributes\n",
    "Navigable String\n",
    "Downloading And Scraping The Contents Of A Web"
   ]
  },
  {
   "cell_type": "markdown",
   "id": "67e823cf",
   "metadata": {},
   "source": [
    "For this lab, we are going to be using Python and several Python libraries. Some of these libraries might be installed in your lab environment or in SN Labs. Others may need to be installed by you. The cells below will install these libraries when executed."
   ]
  },
  {
   "cell_type": "code",
   "execution_count": 1,
   "id": "39f44273",
   "metadata": {},
   "outputs": [
    {
     "name": "stdout",
     "output_type": "stream",
     "text": [
      "Collecting bs4\n",
      "  Downloading bs4-0.0.2-py2.py3-none-any.whl (1.2 kB)\n",
      "Requirement already satisfied: beautifulsoup4 in c:\\users\\lenovo\\anaconda3\\lib\\site-packages (from bs4) (4.11.1)\n",
      "Requirement already satisfied: soupsieve>1.2 in c:\\users\\lenovo\\anaconda3\\lib\\site-packages (from beautifulsoup4->bs4) (2.3.1)\n",
      "Installing collected packages: bs4\n",
      "Successfully installed bs4-0.0.2\n",
      "Requirement already satisfied: requests in c:\\users\\lenovo\\anaconda3\\lib\\site-packages (2.32.3)\n",
      "Requirement already satisfied: pandas in c:\\users\\lenovo\\anaconda3\\lib\\site-packages (1.4.4)\n",
      "Requirement already satisfied: html5lib in c:\\users\\lenovo\\anaconda3\\lib\\site-packages (1.1)\n",
      "Requirement already satisfied: urllib3<3,>=1.21.1 in c:\\users\\lenovo\\anaconda3\\lib\\site-packages (from requests) (1.26.11)\n",
      "Requirement already satisfied: certifi>=2017.4.17 in c:\\users\\lenovo\\anaconda3\\lib\\site-packages (from requests) (2022.9.14)\n",
      "Requirement already satisfied: idna<4,>=2.5 in c:\\users\\lenovo\\anaconda3\\lib\\site-packages (from requests) (3.3)\n",
      "Requirement already satisfied: charset-normalizer<4,>=2 in c:\\users\\lenovo\\anaconda3\\lib\\site-packages (from requests) (2.0.4)\n",
      "Requirement already satisfied: numpy>=1.18.5 in c:\\users\\lenovo\\anaconda3\\lib\\site-packages (from pandas) (1.26.4)\n",
      "Requirement already satisfied: python-dateutil>=2.8.1 in c:\\users\\lenovo\\anaconda3\\lib\\site-packages (from pandas) (2.8.2)\n",
      "Requirement already satisfied: pytz>=2020.1 in c:\\users\\lenovo\\anaconda3\\lib\\site-packages (from pandas) (2024.2)\n",
      "Requirement already satisfied: webencodings in c:\\users\\lenovo\\anaconda3\\lib\\site-packages (from html5lib) (0.5.1)\n",
      "Requirement already satisfied: six>=1.9 in c:\\users\\lenovo\\anaconda3\\lib\\site-packages (from html5lib) (1.16.0)\n"
     ]
    }
   ],
   "source": [
    "!pip install bs4\n",
    "!pip install requests pandas html5lib \n",
    "!pip install lxml"
   ]
  },
  {
   "cell_type": "code",
   "execution_count": 3,
   "id": "50500708",
   "metadata": {},
   "outputs": [],
   "source": [
    "from bs4 import BeautifulSoup # this module helps in web scrapping.\n",
    "import requests  # this module helps us to download a web page"
   ]
  },
  {
   "cell_type": "markdown",
   "id": "9d6735d5",
   "metadata": {},
   "source": [
    "# EXAMPLE"
   ]
  },
  {
   "cell_type": "code",
   "execution_count": null,
   "id": "1398a0ae",
   "metadata": {},
   "outputs": [],
   "source": [
    "# BeautifulSoup: BeautifulSoup is a Python library used for web scraping purposes to pull the data out of HTML and XML files. \n",
    "# It creates a parse tree from page source code that can be used to extract data in a hierarchical and more readable manner."
   ]
  },
  {
   "cell_type": "code",
   "execution_count": null,
   "id": "1b9e3ca8",
   "metadata": {},
   "outputs": [],
   "source": [
    "URL = \"http://www.example.com\"\n",
    "\n",
    "page = requests.get(URL)\n",
    "\n",
    "soup = BeautifulSoup(page.content, \"html.parser\")"
   ]
  },
  {
   "cell_type": "code",
   "execution_count": null,
   "id": "2015110c",
   "metadata": {},
   "outputs": [],
   "source": [
    "# Scrapy: Scrapy is an open-source and collaborative web crawling framework for Python. \n",
    "# It is used to extract the data from the website."
   ]
  },
  {
   "cell_type": "code",
   "execution_count": null,
   "id": "484aba9b",
   "metadata": {},
   "outputs": [],
   "source": [
    "import scrapy\n",
    "\n",
    "class QuotesSpider(scrapy.Spider):\n",
    "    \n",
    "    name = \"quotes\"\n",
    "    \n",
    "    start_urls = ['http://quotes.toscrape.com/tag/humor/',]\n",
    "    \n",
    "    def parse(self, response):\n",
    "        \n",
    "        for quote in response.css('div.quote'):\n",
    "            \n",
    "            yield {'quote': quote.css('span.text::text').get()}"
   ]
  },
  {
   "cell_type": "code",
   "execution_count": null,
   "id": "ed11f7af",
   "metadata": {},
   "outputs": [],
   "source": [
    "# Selenium: Selenium is a tool used for controlling web browsers through programs and automating browser tasks."
   ]
  },
  {
   "cell_type": "code",
   "execution_count": null,
   "id": "9573d1fb",
   "metadata": {},
   "outputs": [],
   "source": [
    "from selenium import webdriver\n",
    "\n",
    "driver = webdriver.Firefox()\n",
    "\n",
    "driver.get(\"http://www.example.com\")"
   ]
  },
  {
   "cell_type": "markdown",
   "id": "a2c514e0",
   "metadata": {},
   "source": [
    "# Beautiful Soup Objects"
   ]
  },
  {
   "cell_type": "markdown",
   "id": "a7a7c0d6",
   "metadata": {},
   "source": [
    "Beautiful Soup is a Python library for pulling data out of HTML and XML files, we will focus on HTML files. This is accomplished by representing the HTML as a set of objects with methods used to parse the HTML. We can navigate the HTML as a tree, and/or filter out what we are looking for.\n",
    "\n",
    "Consider the following HTML:"
   ]
  },
  {
   "cell_type": "code",
   "execution_count": null,
   "id": "d2a876e3",
   "metadata": {},
   "outputs": [],
   "source": [
    "%%html\n",
    "<!DOCTYPE html>\n",
    "<html>\n",
    "<head>\n",
    "<title>Page Title</title>\n",
    "</head>\n",
    "<body>\n",
    "<h3><b id='boldest'>Lebron James</b></h3>\n",
    "<p> Salary: $ 92,000,000 </p>\n",
    "<h3> Stephen Curry</h3>\n",
    "<p> Salary: $85,000, 000 </p>\n",
    "<h3> Kevin Durant </h3>\n",
    "<p> Salary: $73,200, 000</p>\n",
    "</body>\n",
    "</html>"
   ]
  },
  {
   "cell_type": "markdown",
   "id": "a7f6c309",
   "metadata": {},
   "source": [
    "We can store it as a string in the variable HTML:"
   ]
  },
  {
   "cell_type": "code",
   "execution_count": 3,
   "id": "530e53f1",
   "metadata": {},
   "outputs": [],
   "source": [
    "html = \"<!DOCTYPE html><html><head><title>Page Title</title></head><body><h3><b id='boldest'>Lebron James</b></h3><p> Salary: $ 92,000,000 </p><h3> Stephen Curry</h3><p> Salary: $85,000, 000 </p><h3> Kevin Durant </h3><p> Salary: $73,200, 000</p></body></html>\""
   ]
  },
  {
   "cell_type": "markdown",
   "id": "47420fe5",
   "metadata": {},
   "source": [
    "To parse a document, pass it into the BeautifulSoup constructor. The BeautifulSoup object represents the document as a nested data structure:"
   ]
  },
  {
   "cell_type": "code",
   "execution_count": 4,
   "id": "0e6044ca",
   "metadata": {},
   "outputs": [],
   "source": [
    "soup = BeautifulSoup(html, 'html5lib')\n",
    "\n",
    "# soup = BeautifulSoup(html, 'lxml') BU DA OLABİLİRDİ\n",
    "# soup = BeautifulSoup(html, 'html.parser') BU DA OLABİLİRDİ"
   ]
  },
  {
   "cell_type": "markdown",
   "id": "78c3cfc3",
   "metadata": {},
   "source": [
    "First, the document is converted to Unicode (similar to ASCII) and HTML entities are converted to Unicode characters. Beautiful Soup transforms a complex HTML document into a complex tree of Python objects. The BeautifulSoup object can create other types of objects. In this lab, we will cover BeautifulSoup and Tag objects, that for the purposes of this lab are identical. Finally, we will look at NavigableString objects.\n",
    "\n",
    "We can use the method prettify() to display the HTML in the nested structure:"
   ]
  },
  {
   "cell_type": "code",
   "execution_count": 5,
   "id": "b60534b4",
   "metadata": {
    "scrolled": false
   },
   "outputs": [
    {
     "name": "stdout",
     "output_type": "stream",
     "text": [
      "<!DOCTYPE html>\n",
      "<html>\n",
      " <head>\n",
      "  <title>\n",
      "   Page Title\n",
      "  </title>\n",
      " </head>\n",
      " <body>\n",
      "  <h3>\n",
      "   <b id=\"boldest\">\n",
      "    Lebron James\n",
      "   </b>\n",
      "  </h3>\n",
      "  <p>\n",
      "   Salary: $ 92,000,000\n",
      "  </p>\n",
      "  <h3>\n",
      "   Stephen Curry\n",
      "  </h3>\n",
      "  <p>\n",
      "   Salary: $85,000, 000\n",
      "  </p>\n",
      "  <h3>\n",
      "   Kevin Durant\n",
      "  </h3>\n",
      "  <p>\n",
      "   Salary: $73,200, 000\n",
      "  </p>\n",
      " </body>\n",
      "</html>\n"
     ]
    }
   ],
   "source": [
    "print(soup.prettify())"
   ]
  },
  {
   "cell_type": "markdown",
   "id": "a191ca98",
   "metadata": {},
   "source": [
    "# Tags\n",
    "Let's say we want the title of the page and the name of the top paid player. We can use the Tag. The Tag object corresponds to an HTML tag in the original document, for example, the tag title."
   ]
  },
  {
   "cell_type": "code",
   "execution_count": 6,
   "id": "b944e3b5",
   "metadata": {},
   "outputs": [
    {
     "name": "stdout",
     "output_type": "stream",
     "text": [
      "tag object: <title>Page Title</title>\n"
     ]
    }
   ],
   "source": [
    "tag_object = soup.title\n",
    "\n",
    "print(\"tag object:\", tag_object)"
   ]
  },
  {
   "cell_type": "markdown",
   "id": "dc22eb98",
   "metadata": {},
   "source": [
    "we can see the tag type bs4.element.Tag"
   ]
  },
  {
   "cell_type": "code",
   "execution_count": 7,
   "id": "4ad266e0",
   "metadata": {},
   "outputs": [
    {
     "name": "stdout",
     "output_type": "stream",
     "text": [
      "tag object type: <class 'bs4.element.Tag'>\n"
     ]
    }
   ],
   "source": [
    "print(\"tag object type:\", type(tag_object))"
   ]
  },
  {
   "cell_type": "markdown",
   "id": "b486a756",
   "metadata": {},
   "source": [
    "If there is more than one Tag with the same name, the first element with that Tag name is called. This corresponds to the most paid player:"
   ]
  },
  {
   "cell_type": "code",
   "execution_count": 8,
   "id": "3468bc4f",
   "metadata": {},
   "outputs": [
    {
     "data": {
      "text/plain": [
       "<h3><b id=\"boldest\">Lebron James</b></h3>"
      ]
     },
     "execution_count": 8,
     "metadata": {},
     "output_type": "execute_result"
    }
   ],
   "source": [
    "tag_object = soup.h3\n",
    "\n",
    "tag_object"
   ]
  },
  {
   "cell_type": "markdown",
   "id": "792468e2",
   "metadata": {},
   "source": [
    "Enclosed in the bold attribute b, it helps to use the tree representation. We can navigate down the tree using the child attribute to get the name."
   ]
  },
  {
   "cell_type": "markdown",
   "id": "cfe2274a",
   "metadata": {},
   "source": [
    "# Children, Parents, and Siblings"
   ]
  },
  {
   "cell_type": "markdown",
   "id": "6e1fbe8a",
   "metadata": {},
   "source": [
    "As stated above, the Tag object is a tree of objects. We can access the child of the tag or navigate down the branch as follows:"
   ]
  },
  {
   "cell_type": "code",
   "execution_count": 9,
   "id": "b8076af1",
   "metadata": {},
   "outputs": [
    {
     "data": {
      "text/plain": [
       "<b id=\"boldest\">Lebron James</b>"
      ]
     },
     "execution_count": 9,
     "metadata": {},
     "output_type": "execute_result"
    }
   ],
   "source": [
    "tag_child = tag_object.b\n",
    "\n",
    "tag_child"
   ]
  },
  {
   "cell_type": "markdown",
   "id": "ef7b8c4f",
   "metadata": {},
   "source": [
    "You can access the parent with the  parent"
   ]
  },
  {
   "cell_type": "code",
   "execution_count": 10,
   "id": "ac0b1889",
   "metadata": {},
   "outputs": [
    {
     "data": {
      "text/plain": [
       "<h3><b id=\"boldest\">Lebron James</b></h3>"
      ]
     },
     "execution_count": 10,
     "metadata": {},
     "output_type": "execute_result"
    }
   ],
   "source": [
    "parent_tag = tag_child.parent\n",
    "parent_tag"
   ]
  },
  {
   "cell_type": "markdown",
   "id": "8d0210db",
   "metadata": {},
   "source": [
    "this is identical to:"
   ]
  },
  {
   "cell_type": "code",
   "execution_count": 11,
   "id": "512d89f0",
   "metadata": {},
   "outputs": [
    {
     "data": {
      "text/plain": [
       "<h3><b id=\"boldest\">Lebron James</b></h3>"
      ]
     },
     "execution_count": 11,
     "metadata": {},
     "output_type": "execute_result"
    }
   ],
   "source": [
    "tag_object"
   ]
  },
  {
   "cell_type": "markdown",
   "id": "343f641f",
   "metadata": {},
   "source": [
    "tag_object parent is the body element."
   ]
  },
  {
   "cell_type": "code",
   "execution_count": 12,
   "id": "5acb62fd",
   "metadata": {},
   "outputs": [
    {
     "data": {
      "text/plain": [
       "<body><h3><b id=\"boldest\">Lebron James</b></h3><p> Salary: $ 92,000,000 </p><h3> Stephen Curry</h3><p> Salary: $85,000, 000 </p><h3> Kevin Durant </h3><p> Salary: $73,200, 000</p></body>"
      ]
     },
     "execution_count": 12,
     "metadata": {},
     "output_type": "execute_result"
    }
   ],
   "source": [
    "tag_object.parent"
   ]
  },
  {
   "cell_type": "markdown",
   "id": "b176bec4",
   "metadata": {},
   "source": [
    "tag_object sibling is the paragraph element"
   ]
  },
  {
   "cell_type": "code",
   "execution_count": 13,
   "id": "a805cc3c",
   "metadata": {
    "scrolled": true
   },
   "outputs": [
    {
     "data": {
      "text/plain": [
       "<p> Salary: $ 92,000,000 </p>"
      ]
     },
     "execution_count": 13,
     "metadata": {},
     "output_type": "execute_result"
    }
   ],
   "source": [
    "sibling_1 = tag_object.next_sibling\n",
    "\n",
    "sibling_1"
   ]
  },
  {
   "cell_type": "markdown",
   "id": "599ed4e3",
   "metadata": {},
   "source": [
    "sibling_2 is the header element, which is also a sibling of both sibling_1 and tag_object"
   ]
  },
  {
   "cell_type": "code",
   "execution_count": 14,
   "id": "a8aae484",
   "metadata": {},
   "outputs": [
    {
     "data": {
      "text/plain": [
       "<h3> Stephen Curry</h3>"
      ]
     },
     "execution_count": 14,
     "metadata": {},
     "output_type": "execute_result"
    }
   ],
   "source": [
    "sibling_2 = sibling_1.next_sibling\n",
    "sibling_2"
   ]
  },
  {
   "cell_type": "markdown",
   "id": "89f38adc",
   "metadata": {},
   "source": [
    "# Exercise: next_sibling"
   ]
  },
  {
   "cell_type": "markdown",
   "id": "48ddd205",
   "metadata": {},
   "source": [
    "Use the object sibling_2 and the method next_sibling to find the salary of Stephen Curry:"
   ]
  },
  {
   "cell_type": "code",
   "execution_count": 15,
   "id": "5fbe4f0c",
   "metadata": {},
   "outputs": [
    {
     "data": {
      "text/plain": [
       "<p> Salary: $85,000, 000 </p>"
      ]
     },
     "execution_count": 15,
     "metadata": {},
     "output_type": "execute_result"
    }
   ],
   "source": [
    "sibling_3 = sibling_2.next_sibling\n",
    "sibling_3"
   ]
  },
  {
   "cell_type": "markdown",
   "id": "67b718aa",
   "metadata": {},
   "source": [
    "# HTML Attributes"
   ]
  },
  {
   "cell_type": "markdown",
   "id": "f6b1332d",
   "metadata": {},
   "source": [
    "If the tag has attributes, the tag id=\"boldest\" has an attribute id whose value is boldest. You can access a tag’s attributes by treating the tag like a dictionary:"
   ]
  },
  {
   "cell_type": "code",
   "execution_count": 16,
   "id": "3b582e29",
   "metadata": {
    "scrolled": false
   },
   "outputs": [
    {
     "data": {
      "text/plain": [
       "'boldest'"
      ]
     },
     "execution_count": 16,
     "metadata": {},
     "output_type": "execute_result"
    }
   ],
   "source": [
    "tag_child['id']"
   ]
  },
  {
   "cell_type": "markdown",
   "id": "c201738b",
   "metadata": {},
   "source": [
    "You can access that dictionary directly as attrs:"
   ]
  },
  {
   "cell_type": "code",
   "execution_count": 17,
   "id": "8f4d328c",
   "metadata": {},
   "outputs": [
    {
     "data": {
      "text/plain": [
       "{'id': 'boldest'}"
      ]
     },
     "execution_count": 17,
     "metadata": {},
     "output_type": "execute_result"
    }
   ],
   "source": [
    "tag_child.attrs"
   ]
  },
  {
   "cell_type": "markdown",
   "id": "f12d5d02",
   "metadata": {},
   "source": [
    "You can also work with Multi-valued attributes. Check out [1] for more.\n",
    "\n",
    "We can also obtain the content of the attribute of the tag using the Python get() method."
   ]
  },
  {
   "cell_type": "code",
   "execution_count": 18,
   "id": "4331dcc7",
   "metadata": {},
   "outputs": [
    {
     "data": {
      "text/plain": [
       "'boldest'"
      ]
     },
     "execution_count": 18,
     "metadata": {},
     "output_type": "execute_result"
    }
   ],
   "source": [
    "tag_child.get('id')"
   ]
  },
  {
   "cell_type": "markdown",
   "id": "8c38f067",
   "metadata": {},
   "source": [
    "# Navigable String"
   ]
  },
  {
   "cell_type": "markdown",
   "id": "129572bc",
   "metadata": {},
   "source": [
    "A string corresponds to a bit of text or content within a tag. Beautiful Soup uses the NavigableString class to contain this text. In our HTML we can obtain the name of the first player by extracting the string of the Tag object tag_child as follows:"
   ]
  },
  {
   "cell_type": "code",
   "execution_count": 19,
   "id": "33b98c1c",
   "metadata": {},
   "outputs": [
    {
     "data": {
      "text/plain": [
       "'Lebron James'"
      ]
     },
     "execution_count": 19,
     "metadata": {},
     "output_type": "execute_result"
    }
   ],
   "source": [
    "tag_string = tag_child.string\n",
    "\n",
    "tag_string"
   ]
  },
  {
   "cell_type": "markdown",
   "id": "b24ad31f",
   "metadata": {},
   "source": [
    "we can verify the type is Navigable String"
   ]
  },
  {
   "cell_type": "code",
   "execution_count": 20,
   "id": "26b46008",
   "metadata": {},
   "outputs": [
    {
     "data": {
      "text/plain": [
       "bs4.element.NavigableString"
      ]
     },
     "execution_count": 20,
     "metadata": {},
     "output_type": "execute_result"
    }
   ],
   "source": [
    "type(tag_string)"
   ]
  },
  {
   "cell_type": "markdown",
   "id": "4dfe3875",
   "metadata": {},
   "source": [
    "A NavigableString is similar to a Python string or Unicode string. To be more precise, the main difference is that it also supports some BeautifulSoup features. We can convert it to string object in Python:"
   ]
  },
  {
   "cell_type": "code",
   "execution_count": 21,
   "id": "5a1e2115",
   "metadata": {},
   "outputs": [
    {
     "data": {
      "text/plain": [
       "'Lebron James'"
      ]
     },
     "execution_count": 21,
     "metadata": {},
     "output_type": "execute_result"
    }
   ],
   "source": [
    "unicode_string = str(tag_string)\n",
    "\n",
    "unicode_string"
   ]
  },
  {
   "cell_type": "markdown",
   "id": "6baa1012",
   "metadata": {},
   "source": [
    "# Filter"
   ]
  },
  {
   "cell_type": "markdown",
   "id": "86c04a34",
   "metadata": {},
   "source": [
    "Filters allow you to find complex patterns, the simplest filter is a string. In this section we will pass a string to a different filter method and Beautiful Soup will perform a match against that exact string. Consider the following HTML of rocket launches:"
   ]
  },
  {
   "cell_type": "code",
   "execution_count": null,
   "id": "7d47a67f",
   "metadata": {},
   "outputs": [],
   "source": [
    "%%html\n",
    "<table>\n",
    "  <tr>\n",
    "    <td id = 'flight' >Flight No</td>\n",
    "    <td>Launch site</td> \n",
    "    <td>Payload mass</td>\n",
    "   </tr>\n",
    "  <tr> \n",
    "    <td>1</td>\n",
    "    <td><a href = 'https://en.wikipedia.org/wiki/Florida'>Florida</a></td>\n",
    "    <td>300 kg</td>\n",
    "  </tr>\n",
    "  <tr>\n",
    "    <td>2</td>\n",
    "    <td><a href = 'https://en.wikipedia.org/wiki/Texas'>Texas</a></td>\n",
    "    <td>94 kg</td>\n",
    "  </tr>\n",
    "  <tr>\n",
    "    <td>3</td>\n",
    "    <td><a href = 'https://en.wikipedia.org/wiki/Florida'>Florida<a> </td>\n",
    "    <td>80 kg</td>\n",
    "  </tr>\n",
    "</table>"
   ]
  },
  {
   "cell_type": "markdown",
   "id": "2fec132b",
   "metadata": {},
   "source": [
    "We can store it as a string in the variable table:"
   ]
  },
  {
   "cell_type": "code",
   "execution_count": 22,
   "id": "15ab4822",
   "metadata": {},
   "outputs": [],
   "source": [
    "table = \"<table><tr><td id='flight'>Flight No</td><td>Launch site</td> <td>Payload mass</td></tr><tr> <td>1</td><td><a href='https://en.wikipedia.org/wiki/Florida'>Florida<a></td><td>300 kg</td></tr><tr><td>2</td><td><a href='https://en.wikipedia.org/wiki/Texas'>Texas</a></td><td>94 kg</td></tr><tr><td>3</td><td><a href='https://en.wikipedia.org/wiki/Florida'>Florida<a> </td><td>80 kg</td></tr></table>\""
   ]
  },
  {
   "cell_type": "code",
   "execution_count": 23,
   "id": "2c3698e3",
   "metadata": {},
   "outputs": [],
   "source": [
    "table_bs = BeautifulSoup(table, 'html5lib')"
   ]
  },
  {
   "cell_type": "markdown",
   "id": "a3fff434",
   "metadata": {},
   "source": [
    "# find All"
   ]
  },
  {
   "cell_type": "markdown",
   "id": "42fc5944",
   "metadata": {},
   "source": [
    "The find_all() method looks through a tag’s descendants and retrieves all descendants that match your filters.\n",
    "\n",
    "The Method signature for find_all(name, attrs, recursive, string, limit, **kwargs)"
   ]
  },
  {
   "cell_type": "markdown",
   "id": "dc5bffa8",
   "metadata": {},
   "source": [
    "# Name\n",
    "When we set the name parameter to a tag name, the method will extract all the tags with that name and its children."
   ]
  },
  {
   "cell_type": "code",
   "execution_count": 24,
   "id": "1b00cf78",
   "metadata": {},
   "outputs": [
    {
     "data": {
      "text/plain": [
       "[<tr><td id=\"flight\">Flight No</td><td>Launch site</td> <td>Payload mass</td></tr>,\n",
       " <tr> <td>1</td><td><a href=\"https://en.wikipedia.org/wiki/Florida\">Florida</a><a></a></td><td>300 kg</td></tr>,\n",
       " <tr><td>2</td><td><a href=\"https://en.wikipedia.org/wiki/Texas\">Texas</a></td><td>94 kg</td></tr>,\n",
       " <tr><td>3</td><td><a href=\"https://en.wikipedia.org/wiki/Florida\">Florida</a><a> </a></td><td>80 kg</td></tr>]"
      ]
     },
     "execution_count": 24,
     "metadata": {},
     "output_type": "execute_result"
    }
   ],
   "source": [
    "table_rows = table_bs.find_all('tr')\n",
    "\n",
    "table_rows"
   ]
  },
  {
   "cell_type": "markdown",
   "id": "1bb85d7c",
   "metadata": {},
   "source": [
    "The result is a Python Iterable just like a list, each element is a tag object:"
   ]
  },
  {
   "cell_type": "code",
   "execution_count": 25,
   "id": "aaf8df3e",
   "metadata": {},
   "outputs": [
    {
     "data": {
      "text/plain": [
       "<tr><td id=\"flight\">Flight No</td><td>Launch site</td> <td>Payload mass</td></tr>"
      ]
     },
     "execution_count": 25,
     "metadata": {},
     "output_type": "execute_result"
    }
   ],
   "source": [
    "first_row = table_rows[0]\n",
    "\n",
    "first_row"
   ]
  },
  {
   "cell_type": "markdown",
   "id": "8cd78707",
   "metadata": {},
   "source": [
    "The type is tag"
   ]
  },
  {
   "cell_type": "code",
   "execution_count": 26,
   "id": "d7eba16a",
   "metadata": {},
   "outputs": [
    {
     "name": "stdout",
     "output_type": "stream",
     "text": [
      "<class 'bs4.element.Tag'>\n"
     ]
    }
   ],
   "source": [
    "print(type(first_row))"
   ]
  },
  {
   "cell_type": "markdown",
   "id": "4d60491b",
   "metadata": {},
   "source": [
    "we can obtain the child"
   ]
  },
  {
   "cell_type": "code",
   "execution_count": 27,
   "id": "cef6c4ad",
   "metadata": {},
   "outputs": [
    {
     "data": {
      "text/plain": [
       "<td id=\"flight\">Flight No</td>"
      ]
     },
     "execution_count": 27,
     "metadata": {},
     "output_type": "execute_result"
    }
   ],
   "source": [
    "first_row.td"
   ]
  },
  {
   "cell_type": "markdown",
   "id": "403e952b",
   "metadata": {},
   "source": [
    "If we iterate through the list, each element corresponds to a row in the table:"
   ]
  },
  {
   "cell_type": "code",
   "execution_count": 28,
   "id": "739c4dd7",
   "metadata": {
    "scrolled": true
   },
   "outputs": [
    {
     "name": "stdout",
     "output_type": "stream",
     "text": [
      "row 0 is <tr><td id=\"flight\">Flight No</td><td>Launch site</td> <td>Payload mass</td></tr>\n",
      "row 1 is <tr> <td>1</td><td><a href=\"https://en.wikipedia.org/wiki/Florida\">Florida</a><a></a></td><td>300 kg</td></tr>\n",
      "row 2 is <tr><td>2</td><td><a href=\"https://en.wikipedia.org/wiki/Texas\">Texas</a></td><td>94 kg</td></tr>\n",
      "row 3 is <tr><td>3</td><td><a href=\"https://en.wikipedia.org/wiki/Florida\">Florida</a><a> </a></td><td>80 kg</td></tr>\n"
     ]
    }
   ],
   "source": [
    "for i, row in enumerate(table_rows):\n",
    "    \n",
    "    print(\"row\", i, \"is\", row)"
   ]
  },
  {
   "cell_type": "markdown",
   "id": "c652cd5d",
   "metadata": {},
   "source": [
    "As row is a cell object, we can apply the method find_all to it and extract table cells in the object cells using the tag td, this is all the children with the name td. The result is a list, each element corresponds to a cell and is a Tag object, we can iterate through this list as well. We can extract the content using the string attribute."
   ]
  },
  {
   "cell_type": "code",
   "execution_count": 29,
   "id": "2e334211",
   "metadata": {},
   "outputs": [
    {
     "name": "stdout",
     "output_type": "stream",
     "text": [
      "row 0\n",
      "colunm 0 cell <td id=\"flight\">Flight No</td>\n",
      "colunm 1 cell <td>Launch site</td>\n",
      "colunm 2 cell <td>Payload mass</td>\n",
      "row 1\n",
      "colunm 0 cell <td>1</td>\n",
      "colunm 1 cell <td><a href=\"https://en.wikipedia.org/wiki/Florida\">Florida</a><a></a></td>\n",
      "colunm 2 cell <td>300 kg</td>\n",
      "row 2\n",
      "colunm 0 cell <td>2</td>\n",
      "colunm 1 cell <td><a href=\"https://en.wikipedia.org/wiki/Texas\">Texas</a></td>\n",
      "colunm 2 cell <td>94 kg</td>\n",
      "row 3\n",
      "colunm 0 cell <td>3</td>\n",
      "colunm 1 cell <td><a href=\"https://en.wikipedia.org/wiki/Florida\">Florida</a><a> </a></td>\n",
      "colunm 2 cell <td>80 kg</td>\n"
     ]
    }
   ],
   "source": [
    "for i, row in enumerate(table_rows):\n",
    "    \n",
    "    print(\"row\",i)\n",
    "    \n",
    "    cells = row.find_all('td')\n",
    "    \n",
    "    for j, cell in enumerate(cells):\n",
    "        \n",
    "        print('colunm',j,\"cell\",cell)"
   ]
  },
  {
   "cell_type": "markdown",
   "id": "b5b1af64",
   "metadata": {},
   "source": [
    "If we use a list we can match against any item in that list."
   ]
  },
  {
   "cell_type": "code",
   "execution_count": 31,
   "id": "f14778db",
   "metadata": {},
   "outputs": [
    {
     "data": {
      "text/plain": [
       "[<tr><td id=\"flight\">Flight No</td><td>Launch site</td> <td>Payload mass</td></tr>,\n",
       " <td id=\"flight\">Flight No</td>,\n",
       " <td>Launch site</td>,\n",
       " <td>Payload mass</td>,\n",
       " <tr> <td>1</td><td><a href=\"https://en.wikipedia.org/wiki/Florida\">Florida</a><a></a></td><td>300 kg</td></tr>,\n",
       " <td>1</td>,\n",
       " <td><a href=\"https://en.wikipedia.org/wiki/Florida\">Florida</a><a></a></td>,\n",
       " <td>300 kg</td>,\n",
       " <tr><td>2</td><td><a href=\"https://en.wikipedia.org/wiki/Texas\">Texas</a></td><td>94 kg</td></tr>,\n",
       " <td>2</td>,\n",
       " <td><a href=\"https://en.wikipedia.org/wiki/Texas\">Texas</a></td>,\n",
       " <td>94 kg</td>,\n",
       " <tr><td>3</td><td><a href=\"https://en.wikipedia.org/wiki/Florida\">Florida</a><a> </a></td><td>80 kg</td></tr>,\n",
       " <td>3</td>,\n",
       " <td><a href=\"https://en.wikipedia.org/wiki/Florida\">Florida</a><a> </a></td>,\n",
       " <td>80 kg</td>]"
      ]
     },
     "execution_count": 31,
     "metadata": {},
     "output_type": "execute_result"
    }
   ],
   "source": [
    "list_input = table_bs.find_all(name = [\"tr\", \"td\"])\n",
    "\n",
    "list_input"
   ]
  },
  {
   "cell_type": "markdown",
   "id": "26ff06ef",
   "metadata": {},
   "source": [
    "# Attributes"
   ]
  },
  {
   "cell_type": "markdown",
   "id": "525436e7",
   "metadata": {},
   "source": [
    "If the argument is not recognized it will be turned into a filter on the tag’s attributes. For example with the id argument, Beautiful Soup will filter against each tag’s id attribute. For example, the first td elements have a value of id of flight, therefore we can filter based on that id value."
   ]
  },
  {
   "cell_type": "code",
   "execution_count": 32,
   "id": "01509d19",
   "metadata": {},
   "outputs": [
    {
     "data": {
      "text/plain": [
       "[<td id=\"flight\">Flight No</td>]"
      ]
     },
     "execution_count": 32,
     "metadata": {},
     "output_type": "execute_result"
    }
   ],
   "source": [
    "table_bs.find_all(id = \"flight\")"
   ]
  },
  {
   "cell_type": "markdown",
   "id": "e19cda52",
   "metadata": {},
   "source": [
    "We can find all the elements that have links to the Florida Wikipedia page:"
   ]
  },
  {
   "cell_type": "code",
   "execution_count": 33,
   "id": "a58dc92b",
   "metadata": {},
   "outputs": [
    {
     "data": {
      "text/plain": [
       "[<a href=\"https://en.wikipedia.org/wiki/Florida\">Florida</a>,\n",
       " <a href=\"https://en.wikipedia.org/wiki/Florida\">Florida</a>]"
      ]
     },
     "execution_count": 33,
     "metadata": {},
     "output_type": "execute_result"
    }
   ],
   "source": [
    "list_input = table_bs.find_all(href = \"https://en.wikipedia.org/wiki/Florida\")\n",
    "\n",
    "list_input"
   ]
  },
  {
   "cell_type": "markdown",
   "id": "7d753313",
   "metadata": {},
   "source": [
    "If we set the href attribute to True, regardless of what the value is, the code finds all tags with href value:"
   ]
  },
  {
   "cell_type": "code",
   "execution_count": 34,
   "id": "24770708",
   "metadata": {
    "scrolled": true
   },
   "outputs": [
    {
     "data": {
      "text/plain": [
       "[<a href=\"https://en.wikipedia.org/wiki/Florida\">Florida</a>,\n",
       " <a href=\"https://en.wikipedia.org/wiki/Texas\">Texas</a>,\n",
       " <a href=\"https://en.wikipedia.org/wiki/Florida\">Florida</a>]"
      ]
     },
     "execution_count": 34,
     "metadata": {},
     "output_type": "execute_result"
    }
   ],
   "source": [
    "table_bs.find_all(href = True)"
   ]
  },
  {
   "cell_type": "markdown",
   "id": "faac9071",
   "metadata": {},
   "source": [
    "There are other methods for dealing with attributes and other related methods. Check out the following link:\n",
    "https://www.crummy.com/software/BeautifulSoup/bs4/doc/#css-selectors"
   ]
  },
  {
   "cell_type": "markdown",
   "id": "2a377e75",
   "metadata": {},
   "source": [
    "# Exercise: find_all\n",
    "Using the logic above, find all the elements without href value"
   ]
  },
  {
   "cell_type": "code",
   "execution_count": 35,
   "id": "f385f067",
   "metadata": {
    "scrolled": false
   },
   "outputs": [
    {
     "data": {
      "text/plain": [
       "[<html><head></head><body><table><tbody><tr><td id=\"flight\">Flight No</td><td>Launch site</td> <td>Payload mass</td></tr><tr> <td>1</td><td><a href=\"https://en.wikipedia.org/wiki/Florida\">Florida</a><a></a></td><td>300 kg</td></tr><tr><td>2</td><td><a href=\"https://en.wikipedia.org/wiki/Texas\">Texas</a></td><td>94 kg</td></tr><tr><td>3</td><td><a href=\"https://en.wikipedia.org/wiki/Florida\">Florida</a><a> </a></td><td>80 kg</td></tr></tbody></table></body></html>,\n",
       " <head></head>,\n",
       " <body><table><tbody><tr><td id=\"flight\">Flight No</td><td>Launch site</td> <td>Payload mass</td></tr><tr> <td>1</td><td><a href=\"https://en.wikipedia.org/wiki/Florida\">Florida</a><a></a></td><td>300 kg</td></tr><tr><td>2</td><td><a href=\"https://en.wikipedia.org/wiki/Texas\">Texas</a></td><td>94 kg</td></tr><tr><td>3</td><td><a href=\"https://en.wikipedia.org/wiki/Florida\">Florida</a><a> </a></td><td>80 kg</td></tr></tbody></table></body>,\n",
       " <table><tbody><tr><td id=\"flight\">Flight No</td><td>Launch site</td> <td>Payload mass</td></tr><tr> <td>1</td><td><a href=\"https://en.wikipedia.org/wiki/Florida\">Florida</a><a></a></td><td>300 kg</td></tr><tr><td>2</td><td><a href=\"https://en.wikipedia.org/wiki/Texas\">Texas</a></td><td>94 kg</td></tr><tr><td>3</td><td><a href=\"https://en.wikipedia.org/wiki/Florida\">Florida</a><a> </a></td><td>80 kg</td></tr></tbody></table>,\n",
       " <tbody><tr><td id=\"flight\">Flight No</td><td>Launch site</td> <td>Payload mass</td></tr><tr> <td>1</td><td><a href=\"https://en.wikipedia.org/wiki/Florida\">Florida</a><a></a></td><td>300 kg</td></tr><tr><td>2</td><td><a href=\"https://en.wikipedia.org/wiki/Texas\">Texas</a></td><td>94 kg</td></tr><tr><td>3</td><td><a href=\"https://en.wikipedia.org/wiki/Florida\">Florida</a><a> </a></td><td>80 kg</td></tr></tbody>,\n",
       " <tr><td id=\"flight\">Flight No</td><td>Launch site</td> <td>Payload mass</td></tr>,\n",
       " <td id=\"flight\">Flight No</td>,\n",
       " <td>Launch site</td>,\n",
       " <td>Payload mass</td>,\n",
       " <tr> <td>1</td><td><a href=\"https://en.wikipedia.org/wiki/Florida\">Florida</a><a></a></td><td>300 kg</td></tr>,\n",
       " <td>1</td>,\n",
       " <td><a href=\"https://en.wikipedia.org/wiki/Florida\">Florida</a><a></a></td>,\n",
       " <a></a>,\n",
       " <td>300 kg</td>,\n",
       " <tr><td>2</td><td><a href=\"https://en.wikipedia.org/wiki/Texas\">Texas</a></td><td>94 kg</td></tr>,\n",
       " <td>2</td>,\n",
       " <td><a href=\"https://en.wikipedia.org/wiki/Texas\">Texas</a></td>,\n",
       " <td>94 kg</td>,\n",
       " <tr><td>3</td><td><a href=\"https://en.wikipedia.org/wiki/Florida\">Florida</a><a> </a></td><td>80 kg</td></tr>,\n",
       " <td>3</td>,\n",
       " <td><a href=\"https://en.wikipedia.org/wiki/Florida\">Florida</a><a> </a></td>,\n",
       " <a> </a>,\n",
       " <td>80 kg</td>]"
      ]
     },
     "execution_count": 35,
     "metadata": {},
     "output_type": "execute_result"
    }
   ],
   "source": [
    "table_bs.find_all(href = False)"
   ]
  },
  {
   "cell_type": "markdown",
   "id": "877df59f",
   "metadata": {},
   "source": [
    "Using the soup object soup, find the element with the id attribute content set to \"boldest\"."
   ]
  },
  {
   "cell_type": "code",
   "execution_count": 36,
   "id": "39c1f4fb",
   "metadata": {},
   "outputs": [
    {
     "data": {
      "text/plain": [
       "[<b id=\"boldest\">Lebron James</b>]"
      ]
     },
     "execution_count": 36,
     "metadata": {},
     "output_type": "execute_result"
    }
   ],
   "source": [
    "soup.find_all(id = \"boldest\")"
   ]
  },
  {
   "cell_type": "markdown",
   "id": "0234ccc4",
   "metadata": {},
   "source": [
    "string\n",
    "With string you can search for strings instead of tags, where we find all the elments with Florida:"
   ]
  },
  {
   "cell_type": "code",
   "execution_count": 37,
   "id": "922857dc",
   "metadata": {},
   "outputs": [
    {
     "data": {
      "text/plain": [
       "['Florida', 'Florida']"
      ]
     },
     "execution_count": 37,
     "metadata": {},
     "output_type": "execute_result"
    }
   ],
   "source": [
    "table_bs.find_all(string = \"Florida\")"
   ]
  },
  {
   "cell_type": "markdown",
   "id": "28308c55",
   "metadata": {},
   "source": [
    "# find"
   ]
  },
  {
   "cell_type": "markdown",
   "id": "532d3189",
   "metadata": {},
   "source": [
    "The find_all() method scans the entire document looking for results. It’s useful if you are looking for one element, as you can use the find() method to find the first element in the document. Consider the following two tables:"
   ]
  },
  {
   "cell_type": "code",
   "execution_count": null,
   "id": "0519be79",
   "metadata": {},
   "outputs": [],
   "source": [
    "%%html\n",
    "<h3>Rocket Launch </h3>\n",
    "\n",
    "<p>\n",
    "<table class = 'rocket'>\n",
    "  <tr>\n",
    "    <td>Flight No</td>\n",
    "    <td>Launch site</td> \n",
    "    <td>Payload mass</td>\n",
    "  </tr>\n",
    "  <tr>\n",
    "    <td>1</td>\n",
    "    <td>Florida</td>\n",
    "    <td>300 kg</td>\n",
    "  </tr>\n",
    "  <tr>\n",
    "    <td>2</td>\n",
    "    <td>Texas</td>\n",
    "    <td>94 kg</td>\n",
    "  </tr>\n",
    "  <tr>\n",
    "    <td>3</td>\n",
    "    <td>Florida </td>\n",
    "    <td>80 kg</td>\n",
    "  </tr>\n",
    "</table>\n",
    "</p>\n",
    "<p>\n",
    "\n",
    "<h3>Pizza Party  </h3>\n",
    "  \n",
    "    \n",
    "<table class = 'pizza'>\n",
    "  <tr>\n",
    "    <td>Pizza Place</td>\n",
    "    <td>Orders</td> \n",
    "    <td>Slices </td>\n",
    "   </tr>\n",
    "  <tr>\n",
    "    <td>Domino's Pizza</td>\n",
    "    <td>10</td>\n",
    "    <td>100</td>\n",
    "  </tr>\n",
    "  <tr>\n",
    "    <td>Little Caesars</td>\n",
    "    <td>12</td>\n",
    "    <td >144 </td>\n",
    "  </tr>\n",
    "  <tr>\n",
    "    <td>Papa John's </td>\n",
    "    <td>15 </td>\n",
    "    <td>165</td>\n",
    "  </tr>\n"
   ]
  },
  {
   "cell_type": "markdown",
   "id": "1096f9af",
   "metadata": {},
   "source": [
    "We store the HTML as a Python string and assign two_tables:"
   ]
  },
  {
   "cell_type": "code",
   "execution_count": 38,
   "id": "d6745acd",
   "metadata": {},
   "outputs": [],
   "source": [
    "two_tables = \"<h3>Rocket Launch </h3><p><table class='rocket'><tr><td>Flight No</td><td>Launch site</td> <td>Payload mass</td></tr><tr><td>1</td><td>Florida</td><td>300 kg</td></tr><tr><td>2</td><td>Texas</td><td>94 kg</td></tr><tr><td>3</td><td>Florida </td><td>80 kg</td></tr></table></p><p><h3>Pizza Party  </h3><table class='pizza'><tr><td>Pizza Place</td><td>Orders</td> <td>Slices </td></tr><tr><td>Domino's Pizza</td><td>10</td><td>100</td></tr><tr><td>Little Caesars</td><td>12</td><td >144 </td></tr><tr><td>Papa John's </td><td>15 </td><td>165</td></tr>\""
   ]
  },
  {
   "cell_type": "markdown",
   "id": "ff244911",
   "metadata": {},
   "source": [
    "We create a BeautifulSoup object two_tables_bs"
   ]
  },
  {
   "cell_type": "code",
   "execution_count": 39,
   "id": "1bb88861",
   "metadata": {},
   "outputs": [],
   "source": [
    "two_tables_bs = BeautifulSoup(two_tables, 'html.parser')"
   ]
  },
  {
   "cell_type": "markdown",
   "id": "530fa57d",
   "metadata": {},
   "source": [
    "We can find the first table using the tag name table"
   ]
  },
  {
   "cell_type": "code",
   "execution_count": 40,
   "id": "8244efec",
   "metadata": {
    "scrolled": true
   },
   "outputs": [
    {
     "data": {
      "text/plain": [
       "<table class=\"rocket\"><tr><td>Flight No</td><td>Launch site</td> <td>Payload mass</td></tr><tr><td>1</td><td>Florida</td><td>300 kg</td></tr><tr><td>2</td><td>Texas</td><td>94 kg</td></tr><tr><td>3</td><td>Florida </td><td>80 kg</td></tr></table>"
      ]
     },
     "execution_count": 40,
     "metadata": {},
     "output_type": "execute_result"
    }
   ],
   "source": [
    "two_tables_bs.find(\"table\")"
   ]
  },
  {
   "cell_type": "markdown",
   "id": "edc71a12",
   "metadata": {},
   "source": [
    "We can filter on the class attribute to find the second table, but because class is a keyword in Python, we add an underscore to differentiate them.\n",
    "\n"
   ]
  },
  {
   "cell_type": "code",
   "execution_count": 41,
   "id": "5013e079",
   "metadata": {},
   "outputs": [
    {
     "data": {
      "text/plain": [
       "<table class=\"pizza\"><tr><td>Pizza Place</td><td>Orders</td> <td>Slices </td></tr><tr><td>Domino's Pizza</td><td>10</td><td>100</td></tr><tr><td>Little Caesars</td><td>12</td><td>144 </td></tr><tr><td>Papa John's </td><td>15 </td><td>165</td></tr></table>"
      ]
     },
     "execution_count": 41,
     "metadata": {},
     "output_type": "execute_result"
    }
   ],
   "source": [
    "two_tables_bs.find(\"table\", class_ = 'pizza')"
   ]
  },
  {
   "cell_type": "markdown",
   "id": "6d415661",
   "metadata": {},
   "source": [
    "# Downloading And Scraping The Contents Of A Web Page"
   ]
  },
  {
   "cell_type": "markdown",
   "id": "e6fa46eb",
   "metadata": {},
   "source": [
    "We Download the contents of the web page:"
   ]
  },
  {
   "cell_type": "code",
   "execution_count": 42,
   "id": "734a4f80",
   "metadata": {},
   "outputs": [],
   "source": [
    "url = \"http://www.ibm.com\""
   ]
  },
  {
   "cell_type": "markdown",
   "id": "fe551267",
   "metadata": {},
   "source": [
    "We use get to download the contents of the webpage in text format and store in a variable called data:"
   ]
  },
  {
   "cell_type": "code",
   "execution_count": 43,
   "id": "d104825c",
   "metadata": {},
   "outputs": [],
   "source": [
    "data  = requests.get(url).text "
   ]
  },
  {
   "cell_type": "markdown",
   "id": "125d1b77",
   "metadata": {},
   "source": [
    "We create a BeautifulSoup object using the BeautifulSoup constructor"
   ]
  },
  {
   "cell_type": "code",
   "execution_count": 44,
   "id": "be3c3015",
   "metadata": {},
   "outputs": [],
   "source": [
    "soup = BeautifulSoup(data, \"html5lib\")  # create a soup object using the variable 'data'"
   ]
  },
  {
   "cell_type": "markdown",
   "id": "83411510",
   "metadata": {},
   "source": [
    "Scrape all links"
   ]
  },
  {
   "cell_type": "code",
   "execution_count": 46,
   "id": "5a3b9a96",
   "metadata": {},
   "outputs": [
    {
     "name": "stdout",
     "output_type": "stream",
     "text": [
      "https://www.ibm.com/granite?lnk=dev\n",
      "https://developer.ibm.com/technologies/artificial-intelligence?lnk=dev\n",
      "https://www.ibm.com/products/watsonx-code-assistant?lnk=dev\n",
      "https://www.ibm.com/watsonx/developer/?lnk=dev\n",
      "https://www.ibm.com/thought-leadership/institute-business-value/report/ceo-generative-ai?lnk=bus\n",
      "https://www.ibm.com/think/reports/ai-in-action?lnk=bus\n",
      "https://www.ibm.com/impact/ai-ethics?lnk=bus\n",
      "https://www.ibm.com/account/reg/signup?formid=news-urx-52954&lnk=bus\n",
      "https://www.ibm.com/artificial-intelligence?lnk=ProdC\n",
      "https://www.ibm.com/hybrid-cloud?lnk=ProdC\n",
      "https://www.ibm.com/consulting?lnk=ProdC\n"
     ]
    }
   ],
   "source": [
    "for link in soup.find_all('a', href = True):  # in html anchor/link is represented by the tag <a>\n",
    "\n",
    "    print(link.get('href'))"
   ]
  },
  {
   "cell_type": "markdown",
   "id": "906478c5",
   "metadata": {},
   "source": [
    "# Scrape all images Tags"
   ]
  },
  {
   "cell_type": "code",
   "execution_count": 48,
   "id": "7a034fdf",
   "metadata": {},
   "outputs": [],
   "source": [
    "for link in soup.find_all('img'):     # in html image is represented by the tag <img>\n",
    "    \n",
    "    print(link)\n",
    "    \n",
    "    print(link.get('src'))"
   ]
  },
  {
   "cell_type": "markdown",
   "id": "b5fce68f",
   "metadata": {},
   "source": [
    "# Scrape data from HTML tables"
   ]
  },
  {
   "cell_type": "code",
   "execution_count": 1,
   "id": "d4171593",
   "metadata": {},
   "outputs": [],
   "source": [
    "#The below url contains an html table with data about colors and color codes.\n",
    "url = \"https://cf-courses-data.s3.us.cloud-object-storage.appdomain.cloud/IBM-DA0321EN-SkillsNetwork/labs/datasets/HTMLColorCodes.html\""
   ]
  },
  {
   "cell_type": "markdown",
   "id": "19396fba",
   "metadata": {},
   "source": [
    "Before proceeding to scrape a web site, you need to examine the contents and the way data is organized on the website. Open the above url in your browser and check how many rows and columns there are in the color table."
   ]
  },
  {
   "cell_type": "code",
   "execution_count": 4,
   "id": "7ef620b3",
   "metadata": {},
   "outputs": [],
   "source": [
    "# get the contents of the webpage in text format and store in a variable called data\n",
    "data  = requests.get(url).text"
   ]
  },
  {
   "cell_type": "code",
   "execution_count": 8,
   "id": "71d4f12e",
   "metadata": {},
   "outputs": [],
   "source": [
    "soup = BeautifulSoup(data, \"html5lib\")"
   ]
  },
  {
   "cell_type": "code",
   "execution_count": 11,
   "id": "3ca4ffbe",
   "metadata": {},
   "outputs": [
    {
     "name": "stdout",
     "output_type": "stream",
     "text": [
      "<html>\n",
      " <head>\n",
      " </head>\n",
      " <body>\n",
      "  <h1>\n",
      "   Partital List  of HTML5 Supported Colors\n",
      "  </h1>\n",
      "  <table border=\"1\" class=\"main-table\">\n",
      "   <tbody>\n",
      "    <tr>\n",
      "     <td>\n",
      "      Number\n",
      "     </td>\n",
      "     <td>\n",
      "      Color\n",
      "     </td>\n",
      "     <td>\n",
      "      Color Name\n",
      "     </td>\n",
      "     <td>\n",
      "      Hex Code\n",
      "      <br/>\n",
      "      #RRGGBB\n",
      "     </td>\n",
      "     <td>\n",
      "      Decimal Code\n",
      "      <br/>\n",
      "      (R,G,B)\n",
      "     </td>\n",
      "    </tr>\n",
      "    <tr>\n",
      "     <td>\n",
      "      1\n",
      "     </td>\n",
      "     <td style=\"background:lightsalmon;\">\n",
      "     </td>\n",
      "     <td>\n",
      "      lightsalmon\n",
      "     </td>\n",
      "     <td>\n",
      "      #FFA07A\n",
      "     </td>\n",
      "     <td>\n",
      "      rgb(255,160,122)\n",
      "     </td>\n",
      "    </tr>\n",
      "    <tr>\n",
      "     <td>\n",
      "      2\n",
      "     </td>\n",
      "     <td style=\"background:salmon;\">\n",
      "     </td>\n",
      "     <td>\n",
      "      salmon\n",
      "     </td>\n",
      "     <td>\n",
      "      #FA8072\n",
      "     </td>\n",
      "     <td>\n",
      "      rgb(250,128,114)\n",
      "     </td>\n",
      "    </tr>\n",
      "    <tr>\n",
      "     <td>\n",
      "      3\n",
      "     </td>\n",
      "     <td style=\"background:darksalmon;\">\n",
      "     </td>\n",
      "     <td>\n",
      "      darksalmon\n",
      "     </td>\n",
      "     <td>\n",
      "      #E9967A\n",
      "     </td>\n",
      "     <td>\n",
      "      rgb(233,150,122)\n",
      "     </td>\n",
      "    </tr>\n",
      "    <tr>\n",
      "     <td>\n",
      "      4\n",
      "     </td>\n",
      "     <td style=\"background:lightcoral;\">\n",
      "     </td>\n",
      "     <td>\n",
      "      lightcoral\n",
      "     </td>\n",
      "     <td>\n",
      "      #F08080\n",
      "     </td>\n",
      "     <td>\n",
      "      rgb(240,128,128)\n",
      "     </td>\n",
      "    </tr>\n",
      "    <tr>\n",
      "     <td>\n",
      "      5\n",
      "     </td>\n",
      "     <td style=\"background:coral;\">\n",
      "     </td>\n",
      "     <td>\n",
      "      coral\n",
      "     </td>\n",
      "     <td>\n",
      "      #FF7F50\n",
      "     </td>\n",
      "     <td>\n",
      "      rgb(255,127,80)\n",
      "     </td>\n",
      "    </tr>\n",
      "    <tr>\n",
      "     <td>\n",
      "      6\n",
      "     </td>\n",
      "     <td style=\"background:tomato;\">\n",
      "     </td>\n",
      "     <td>\n",
      "      tomato\n",
      "     </td>\n",
      "     <td>\n",
      "      #FF6347\n",
      "     </td>\n",
      "     <td>\n",
      "      rgb(255,99,71)\n",
      "     </td>\n",
      "    </tr>\n",
      "    <tr>\n",
      "     <td>\n",
      "      7\n",
      "     </td>\n",
      "     <td style=\"background:orangered;\">\n",
      "     </td>\n",
      "     <td>\n",
      "      orangered\n",
      "     </td>\n",
      "     <td>\n",
      "      #FF4500\n",
      "     </td>\n",
      "     <td>\n",
      "      rgb(255,69,0)\n",
      "     </td>\n",
      "    </tr>\n",
      "    <tr>\n",
      "     <td>\n",
      "      8\n",
      "     </td>\n",
      "     <td style=\"background:gold;\">\n",
      "     </td>\n",
      "     <td>\n",
      "      gold\n",
      "     </td>\n",
      "     <td>\n",
      "      #FFD700\n",
      "     </td>\n",
      "     <td>\n",
      "      rgb(255,215,0)\n",
      "     </td>\n",
      "    </tr>\n",
      "    <tr>\n",
      "     <td>\n",
      "      9\n",
      "     </td>\n",
      "     <td style=\"background:orange;\">\n",
      "     </td>\n",
      "     <td>\n",
      "      orange\n",
      "     </td>\n",
      "     <td>\n",
      "      #FFA500\n",
      "     </td>\n",
      "     <td>\n",
      "      rgb(255,165,0)\n",
      "     </td>\n",
      "    </tr>\n",
      "    <tr>\n",
      "     <td>\n",
      "      10\n",
      "     </td>\n",
      "     <td style=\"background:darkorange;\">\n",
      "     </td>\n",
      "     <td>\n",
      "      darkorange\n",
      "     </td>\n",
      "     <td>\n",
      "      #FF8C00\n",
      "     </td>\n",
      "     <td>\n",
      "      rgb(255,140,0)\n",
      "     </td>\n",
      "    </tr>\n",
      "    <tr>\n",
      "     <td>\n",
      "      11\n",
      "     </td>\n",
      "     <td style=\"background:lightyellow;\">\n",
      "     </td>\n",
      "     <td>\n",
      "      lightyellow\n",
      "     </td>\n",
      "     <td>\n",
      "      #FFFFE0\n",
      "     </td>\n",
      "     <td>\n",
      "      rgb(255,255,224)\n",
      "     </td>\n",
      "    </tr>\n",
      "    <tr>\n",
      "     <td>\n",
      "      12\n",
      "     </td>\n",
      "     <td style=\"background:lemonchiffon;\">\n",
      "     </td>\n",
      "     <td>\n",
      "      lemonchiffon\n",
      "     </td>\n",
      "     <td>\n",
      "      #FFFACD\n",
      "     </td>\n",
      "     <td>\n",
      "      rgb(255,250,205)\n",
      "     </td>\n",
      "    </tr>\n",
      "    <tr>\n",
      "     <td>\n",
      "      13\n",
      "     </td>\n",
      "     <td style=\"background:papayawhip;\">\n",
      "     </td>\n",
      "     <td>\n",
      "      papayawhip\n",
      "     </td>\n",
      "     <td>\n",
      "      #FFEFD5\n",
      "     </td>\n",
      "     <td>\n",
      "      rgb(255,239,213)\n",
      "     </td>\n",
      "    </tr>\n",
      "    <tr>\n",
      "     <td>\n",
      "      14\n",
      "     </td>\n",
      "     <td style=\"background:moccasin;\">\n",
      "     </td>\n",
      "     <td>\n",
      "      moccasin\n",
      "     </td>\n",
      "     <td>\n",
      "      #FFE4B5\n",
      "     </td>\n",
      "     <td>\n",
      "      rgb(255,228,181)\n",
      "     </td>\n",
      "    </tr>\n",
      "    <tr>\n",
      "     <td>\n",
      "      15\n",
      "     </td>\n",
      "     <td style=\"background:peachpuff;\">\n",
      "     </td>\n",
      "     <td>\n",
      "      peachpuff\n",
      "     </td>\n",
      "     <td>\n",
      "      #FFDAB9\n",
      "     </td>\n",
      "     <td>\n",
      "      rgb(255,218,185)\n",
      "     </td>\n",
      "    </tr>\n",
      "    <tr>\n",
      "     <td>\n",
      "      16\n",
      "     </td>\n",
      "     <td style=\"background:palegoldenrod;\">\n",
      "     </td>\n",
      "     <td>\n",
      "      palegoldenrod\n",
      "     </td>\n",
      "     <td>\n",
      "      #EEE8AA\n",
      "     </td>\n",
      "     <td>\n",
      "      rgb(238,232,170)\n",
      "     </td>\n",
      "    </tr>\n",
      "    <tr>\n",
      "     <td>\n",
      "      17\n",
      "     </td>\n",
      "     <td style=\"background:khaki;\">\n",
      "     </td>\n",
      "     <td>\n",
      "      khaki\n",
      "     </td>\n",
      "     <td>\n",
      "      #F0E68C\n",
      "     </td>\n",
      "     <td>\n",
      "      rgb(240,230,140)\n",
      "     </td>\n",
      "    </tr>\n",
      "    <tr>\n",
      "     <td>\n",
      "      18\n",
      "     </td>\n",
      "     <td style=\"background:darkkhaki;\">\n",
      "     </td>\n",
      "     <td>\n",
      "      darkkhaki\n",
      "     </td>\n",
      "     <td>\n",
      "      #BDB76B\n",
      "     </td>\n",
      "     <td>\n",
      "      rgb(189,183,107)\n",
      "     </td>\n",
      "    </tr>\n",
      "    <tr>\n",
      "     <td>\n",
      "      19\n",
      "     </td>\n",
      "     <td style=\"background:yellow;\">\n",
      "     </td>\n",
      "     <td>\n",
      "      yellow\n",
      "     </td>\n",
      "     <td>\n",
      "      #FFFF00\n",
      "     </td>\n",
      "     <td>\n",
      "      rgb(255,255,0)\n",
      "     </td>\n",
      "    </tr>\n",
      "    <tr>\n",
      "     <td>\n",
      "      20\n",
      "     </td>\n",
      "     <td style=\"background:lawngreen;\">\n",
      "     </td>\n",
      "     <td>\n",
      "      lawngreen\n",
      "     </td>\n",
      "     <td>\n",
      "      #7CFC00\n",
      "     </td>\n",
      "     <td>\n",
      "      rgb(124,252,0)\n",
      "     </td>\n",
      "    </tr>\n",
      "    <tr>\n",
      "     <td>\n",
      "      21\n",
      "     </td>\n",
      "     <td style=\"background:chartreuse;\">\n",
      "     </td>\n",
      "     <td>\n",
      "      chartreuse\n",
      "     </td>\n",
      "     <td>\n",
      "      #7FFF00\n",
      "     </td>\n",
      "     <td>\n",
      "      rgb(127,255,0)\n",
      "     </td>\n",
      "    </tr>\n",
      "    <tr>\n",
      "     <td>\n",
      "      22\n",
      "     </td>\n",
      "     <td style=\"background:limegreen;\">\n",
      "     </td>\n",
      "     <td>\n",
      "      limegreen\n",
      "     </td>\n",
      "     <td>\n",
      "      #32CD32\n",
      "     </td>\n",
      "     <td>\n",
      "      rgb(50,205,50)\n",
      "     </td>\n",
      "    </tr>\n",
      "    <tr>\n",
      "     <td>\n",
      "      23\n",
      "     </td>\n",
      "     <td style=\"background:lime;\">\n",
      "     </td>\n",
      "     <td>\n",
      "      lime\n",
      "     </td>\n",
      "     <td>\n",
      "      #00FF00\n",
      "     </td>\n",
      "     <td>\n",
      "      rgb(0.255.0)\n",
      "     </td>\n",
      "    </tr>\n",
      "    <tr>\n",
      "     <td>\n",
      "      24\n",
      "     </td>\n",
      "     <td style=\"background:forestgreen;\">\n",
      "     </td>\n",
      "     <td>\n",
      "      forestgreen\n",
      "     </td>\n",
      "     <td>\n",
      "      #228B22\n",
      "     </td>\n",
      "     <td>\n",
      "      rgb(34,139,34)\n",
      "     </td>\n",
      "    </tr>\n",
      "    <tr>\n",
      "     <td>\n",
      "      25\n",
      "     </td>\n",
      "     <td style=\"background:green;\">\n",
      "     </td>\n",
      "     <td>\n",
      "      green\n",
      "     </td>\n",
      "     <td>\n",
      "      #008000\n",
      "     </td>\n",
      "     <td>\n",
      "      rgb(0,128,0)\n",
      "     </td>\n",
      "    </tr>\n",
      "    <tr>\n",
      "     <td>\n",
      "      26\n",
      "     </td>\n",
      "     <td style=\"background:powderblue;\">\n",
      "     </td>\n",
      "     <td>\n",
      "      powderblue\n",
      "     </td>\n",
      "     <td>\n",
      "      #B0E0E6\n",
      "     </td>\n",
      "     <td>\n",
      "      rgb(176,224,230)\n",
      "     </td>\n",
      "    </tr>\n",
      "    <tr>\n",
      "     <td>\n",
      "      27\n",
      "     </td>\n",
      "     <td style=\"background:lightblue;\">\n",
      "     </td>\n",
      "     <td>\n",
      "      lightblue\n",
      "     </td>\n",
      "     <td>\n",
      "      #ADD8E6\n",
      "     </td>\n",
      "     <td>\n",
      "      rgb(173,216,230)\n",
      "     </td>\n",
      "    </tr>\n",
      "    <tr>\n",
      "     <td>\n",
      "      28\n",
      "     </td>\n",
      "     <td style=\"background:lightskyblue;\">\n",
      "     </td>\n",
      "     <td>\n",
      "      lightskyblue\n",
      "     </td>\n",
      "     <td>\n",
      "      #87CEFA\n",
      "     </td>\n",
      "     <td>\n",
      "      rgb(135,206,250)\n",
      "     </td>\n",
      "    </tr>\n",
      "    <tr>\n",
      "     <td>\n",
      "      29\n",
      "     </td>\n",
      "     <td style=\"background:skyblue;\">\n",
      "     </td>\n",
      "     <td>\n",
      "      skyblue\n",
      "     </td>\n",
      "     <td>\n",
      "      #87CEEB\n",
      "     </td>\n",
      "     <td>\n",
      "      rgb(135,206,235)\n",
      "     </td>\n",
      "    </tr>\n",
      "    <tr>\n",
      "     <td>\n",
      "      30\n",
      "     </td>\n",
      "     <td style=\"background:deepskyblue;\">\n",
      "     </td>\n",
      "     <td>\n",
      "      deepskyblue\n",
      "     </td>\n",
      "     <td>\n",
      "      #00BFFF\n",
      "     </td>\n",
      "     <td>\n",
      "      rgb(0,191,255)\n",
      "     </td>\n",
      "    </tr>\n",
      "    <tr>\n",
      "     <td>\n",
      "      31\n",
      "     </td>\n",
      "     <td style=\"background:lightsteelblue;\">\n",
      "     </td>\n",
      "     <td>\n",
      "      lightsteelblue\n",
      "     </td>\n",
      "     <td>\n",
      "      #B0C4DE\n",
      "     </td>\n",
      "     <td>\n",
      "      rgb(176,196,222)\n",
      "     </td>\n",
      "    </tr>\n",
      "    <tr>\n",
      "     <td>\n",
      "      32\n",
      "     </td>\n",
      "     <td style=\"background:dodgerblue;\">\n",
      "     </td>\n",
      "     <td>\n",
      "      dodgerblue\n",
      "     </td>\n",
      "     <td>\n",
      "      #1E90FF\n",
      "     </td>\n",
      "     <td>\n",
      "      rgb(30,144,255)\n",
      "     </td>\n",
      "    </tr>\n",
      "   </tbody>\n",
      "  </table>\n",
      " </body>\n",
      "</html>\n"
     ]
    }
   ],
   "source": [
    "print(soup.prettify())"
   ]
  },
  {
   "cell_type": "code",
   "execution_count": 52,
   "id": "af40dead",
   "metadata": {},
   "outputs": [],
   "source": [
    "# find a html table in the web page\n",
    "table = soup.find('table') # in html table is represented by the tag <table>"
   ]
  },
  {
   "cell_type": "code",
   "execution_count": 53,
   "id": "a0fa432f",
   "metadata": {
    "scrolled": false
   },
   "outputs": [
    {
     "name": "stdout",
     "output_type": "stream",
     "text": [
      "Color Name--->None\n",
      "lightsalmon--->#FFA07A\n",
      "salmon--->#FA8072\n",
      "darksalmon--->#E9967A\n",
      "lightcoral--->#F08080\n",
      "coral--->#FF7F50\n",
      "tomato--->#FF6347\n",
      "orangered--->#FF4500\n",
      "gold--->#FFD700\n",
      "orange--->#FFA500\n",
      "darkorange--->#FF8C00\n",
      "lightyellow--->#FFFFE0\n",
      "lemonchiffon--->#FFFACD\n",
      "papayawhip--->#FFEFD5\n",
      "moccasin--->#FFE4B5\n",
      "peachpuff--->#FFDAB9\n",
      "palegoldenrod--->#EEE8AA\n",
      "khaki--->#F0E68C\n",
      "darkkhaki--->#BDB76B\n",
      "yellow--->#FFFF00\n",
      "lawngreen--->#7CFC00\n",
      "chartreuse--->#7FFF00\n",
      "limegreen--->#32CD32\n",
      "lime--->#00FF00\n",
      "forestgreen--->#228B22\n",
      "green--->#008000\n",
      "powderblue--->#B0E0E6\n",
      "lightblue--->#ADD8E6\n",
      "lightskyblue--->#87CEFA\n",
      "skyblue--->#87CEEB\n",
      "deepskyblue--->#00BFFF\n",
      "lightsteelblue--->#B0C4DE\n",
      "dodgerblue--->#1E90FF\n"
     ]
    }
   ],
   "source": [
    "# Get all rows from the table\n",
    "for row in table.find_all('tr'): # in html table row is represented by the tag <tr>\n",
    "                                 # Get all columns in each row.\n",
    "    cols = row.find_all('td')    # in html a column is represented by the tag <td>\n",
    "    color_name = cols[2].string  # store the value in column 3 as color_name\n",
    "    color_code = cols[3].string  # store the value in column 4 as color_code\n",
    "    print(\"{}--->{}\".format(color_name, color_code))"
   ]
  }
 ],
 "metadata": {
  "kernelspec": {
   "display_name": "Python 3 (ipykernel)",
   "language": "python",
   "name": "python3"
  },
  "language_info": {
   "codemirror_mode": {
    "name": "ipython",
    "version": 3
   },
   "file_extension": ".py",
   "mimetype": "text/x-python",
   "name": "python",
   "nbconvert_exporter": "python",
   "pygments_lexer": "ipython3",
   "version": "3.9.13"
  }
 },
 "nbformat": 4,
 "nbformat_minor": 5
}

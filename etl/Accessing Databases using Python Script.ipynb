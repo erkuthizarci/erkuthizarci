{
 "cells": [
  {
   "cell_type": "markdown",
   "id": "d78d8b95",
   "metadata": {},
   "source": [
    "# Hands-on Lab: Accessing Databases using Python Script"
   ]
  },
  {
   "cell_type": "markdown",
   "id": "00949df6",
   "metadata": {},
   "source": [
    "Using databases is an important and useful method of sharing information. To preserve repeated storage of the same files containing the required data, it is a good practice to save the said data on a database on a server and access the required subset of information using database management systems.\n",
    "\n",
    "In this lab, you'll learn how to create a database, load data from a CSV file as a table, and then run queries on the data using Python."
   ]
  },
  {
   "cell_type": "markdown",
   "id": "6262afdb",
   "metadata": {},
   "source": [
    "# Objectives\n",
    "In this lab you'll learn how to:\n",
    "\n",
    "Create a database using Python\n",
    "\n",
    "Load the data from a CSV file as a table to the database\n",
    "\n",
    "Run basic \"queries\" on the database to access the information"
   ]
  },
  {
   "cell_type": "markdown",
   "id": "7515aac3",
   "metadata": {},
   "source": [
    "# Scenario\n",
    "Consider a dataset of employee records that is available with an HR team in a CSV file. As a Data Engineer, you are required to create the database called STAFF and load the contents of the CSV file as a table called INSTRUCTORS. The headers of the available data are :"
   ]
  },
  {
   "attachments": {
    "image.png": {
     "image/png": "[encoded data removed]"
    }
   },
   "cell_type": "markdown",
   "id": "a4d361f3",
   "metadata": {},
   "source": [
    "![image.png](attachment:image.png)"
   ]
  },
  {
   "cell_type": "markdown",
   "id": "be8376d9",
   "metadata": {},
   "source": [
    "Usually, the database for storing data would be created on a server to which the other team members would have access. For the purpose of this lab, we are going to create the database on a dummy server using SQLite3 library.\n",
    "\n",
    "Note: SQLite3 is a software library that implements a self-contained, serverless, zero-configuration, transactional SQL database engine. SQLite is the most widely deployed SQL database engine in the world. SQLite3 comes bundled with Python and does not require installation."
   ]
  },
  {
   "cell_type": "code",
   "execution_count": 1,
   "id": "4f0033f3",
   "metadata": {
    "scrolled": false
   },
   "outputs": [
    {
     "name": "stdout",
     "output_type": "stream",
     "text": [
      "Table is ready\n",
      "SELECT * FROM INSTRUCTOR\n",
      "    ID    FNAME      LNAME      CITY CCODE\n",
      "0    1      Rav      Ahuja   TORONTO    CA\n",
      "1    2     Raul      Chong   Markham    CA\n",
      "2    3     Hima  Vasudevan   Chicago    US\n",
      "3    4     John     Thomas  Illinois    US\n",
      "4    5    Alice      James  Illinois    US\n",
      "5    6    Steve      Wells  Illinois    US\n",
      "6    7  Santosh      Kumar  Illinois    US\n",
      "7    8    Ahmed    Hussain  Illinois    US\n",
      "8    9    Nancy      Allen  Illinois    US\n",
      "9   10     Mary     Thomas  Illinois    US\n",
      "10  11  Bharath      Gupta  Illinois    US\n",
      "11  12   Andrea      Jones  Illinois    US\n",
      "12  13      Ann      Jacob  Illinois    US\n",
      "13  14     Amit      Kumar  NewDelhi    IN\n",
      "SELECT FNAME FROM INSTRUCTOR\n",
      "      FNAME\n",
      "0       Rav\n",
      "1      Raul\n",
      "2      Hima\n",
      "3      John\n",
      "4     Alice\n",
      "5     Steve\n",
      "6   Santosh\n",
      "7     Ahmed\n",
      "8     Nancy\n",
      "9      Mary\n",
      "10  Bharath\n",
      "11   Andrea\n",
      "12      Ann\n",
      "13     Amit\n",
      "SELECT COUNT(*) FROM INSTRUCTOR\n",
      "   COUNT(*)\n",
      "0        14\n",
      "Data appended successfully\n",
      "SELECT COUNT(*) FROM INSTRUCTOR\n",
      "   COUNT(*)\n",
      "0        15\n"
     ]
    }
   ],
   "source": [
    "import sqlite3\n",
    "import pandas as pd\n",
    "\n",
    "conn = sqlite3.connect('STAFF.db')    # Now, you can use SQLite3 to create and \n",
    "                                      # connect your process to a new database STAFF using this\n",
    "\n",
    "table_name = 'INSTRUCTOR'    # To create a table in the database, you first need to have the attributes of the required table\n",
    "attribute_list = ['ID', 'FNAME', 'LNAME', 'CITY', 'CCODE']\n",
    " \n",
    "\n",
    "file_path = 'https://cf-courses-data.s3.us.cloud-object-storage.appdomain.cloud/IBMSkillsNetwork-PY0221EN-Coursera/labs/v2/INSTRUCTOR.csv'\n",
    "\n",
    "df = pd.read_csv(file_path, names = attribute_list)\n",
    "\n",
    "df.to_sql(table_name, conn, if_exists = 'replace', index = False)\n",
    "print('Table is ready')\n",
    "\n",
    "query_statement = f\"SELECT * FROM {table_name}\"\n",
    "query_output = pd.read_sql(query_statement, conn)\n",
    "print(query_statement)\n",
    "print(query_output)\n",
    "\n",
    "# SQL queries can be executed on the data using the read_sql function in pandas\n",
    "\n",
    "query_statement = f\"SELECT FNAME FROM {table_name}\"\n",
    "query_output = pd.read_sql(query_statement, conn)\n",
    "print(query_statement)\n",
    "print(query_output)\n",
    "\n",
    "# Viewing only FNAME column of data\n",
    "\n",
    "query_statement = f\"SELECT COUNT(*) FROM {table_name}\"\n",
    "query_output = pd.read_sql(query_statement, conn)\n",
    "print(query_statement)\n",
    "print(query_output)\n",
    "\n",
    "# Viewing the total number of entries in the table\n",
    "\n",
    "data_dict = {'ID' : [100],\n",
    "            'FNAME' : ['John'],\n",
    "            'LNAME' : ['Doe'],\n",
    "            'CITY' : ['Paris'],\n",
    "            'CCODE' : ['FR']}\n",
    "data_append = pd.DataFrame(data_dict)\n",
    "\n",
    "data_append.to_sql(table_name, conn, if_exists = 'append', index = False)\n",
    "print('Data appended successfully')\n",
    "\n",
    "query_statement = f\"SELECT COUNT(*) FROM {table_name}\"\n",
    "query_output = pd.read_sql(query_statement, conn)\n",
    "print(query_statement)\n",
    "print(query_output)\n",
    "\n",
    "conn.close()"
   ]
  }
 ],
 "metadata": {
  "kernelspec": {
   "display_name": "Python 3 (ipykernel)",
   "language": "python",
   "name": "python3"
  },
  "language_info": {
   "codemirror_mode": {
    "name": "ipython",
    "version": 3
   },
   "file_extension": ".py",
   "mimetype": "text/x-python",
   "name": "python",
   "nbconvert_exporter": "python",
   "pygments_lexer": "ipython3",
   "version": "3.9.13"
  }
 },
 "nbformat": 4,
 "nbformat_minor": 5
}

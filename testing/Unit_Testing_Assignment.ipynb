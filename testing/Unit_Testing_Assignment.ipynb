{
 "cells": [
  {
   "cell_type": "markdown",
   "id": "562eb386",
   "metadata": {},
   "source": [
    "# Unit Testing Assignment"
   ]
  },
  {
   "cell_type": "markdown",
   "id": "a14dba1a",
   "metadata": {},
   "source": [
    "# Objectives\n",
    "After completing this lab you will be able to:\n",
    "\n",
    "Write unit tests to test a function.\n",
    "Run unit tests and interpret the results."
   ]
  },
  {
   "cell_type": "markdown",
   "id": "79dfc36c",
   "metadata": {},
   "source": [
    "# Two functions are created as below"
   ]
  },
  {
   "cell_type": "code",
   "execution_count": 1,
   "id": "20d63214",
   "metadata": {},
   "outputs": [],
   "source": [
    "def square(number):\n",
    "    \"\"\"\n",
    "    This function returns the square of a given number\n",
    "    \"\"\"\n",
    "    return number ** 2\n",
    "\n",
    "def double(number):\n",
    "    \"\"\"\n",
    "    This function returns twice the value of a given number\n",
    "    \"\"\"\n",
    "    return number * 2"
   ]
  },
  {
   "cell_type": "markdown",
   "id": "9b53059c",
   "metadata": {},
   "source": [
    "# Write the unit tests for square function\n",
    "Let us write test cases for these three scenarios.\n",
    "\n",
    "When 2 is given as input the output must be 4.\n",
    "When 3.0 is given as input the output must be 9.0.\n",
    "When -3 is given as input the output must not be -9."
   ]
  },
  {
   "cell_type": "markdown",
   "id": "f20c1e03",
   "metadata": {},
   "source": [
    "# Write the unit tests for double function\n",
    "Let us write test cases for these three scenarios.\n",
    "\n",
    "When 2 is given as input the output must be 4.\n",
    "When -3.1 is given as input the output must be -6.2.\n",
    "When 0 is given as input the output must be 0."
   ]
  },
  {
   "cell_type": "code",
   "execution_count": 5,
   "id": "98d01ddc",
   "metadata": {},
   "outputs": [
    {
     "name": "stderr",
     "output_type": "stream",
     "text": [
      "test2 (__main__.TestDouble) ... ok\n",
      "test1 (__main__.TestSquare) ... ok\n",
      "\n",
      "----------------------------------------------------------------------\n",
      "Ran 2 tests in 0.003s\n",
      "\n",
      "OK\n"
     ]
    }
   ],
   "source": [
    "# Import the 'unittest' module to create unit tests for your code.\n",
    "import unittest\n",
    "\n",
    "# Define a test case class for testing the 'square' function.\n",
    "class TestSquare(unittest.TestCase):\n",
    "    \n",
    "    def test1(self): \n",
    "        \n",
    "        self.assertEqual(square(2), 4)\n",
    "        self.assertEqual(square(3.0), 9.0)\n",
    "        self.assertNotEqual(square(-3), -9)\n",
    "\n",
    "# Define a test case class for testing the 'double' function.\n",
    "class TestDouble(unittest.TestCase):\n",
    "    \n",
    "    def test2(self): \n",
    "        \n",
    "        self.assertEqual(double(2), 4)\n",
    "        self.assertEqual(double(-3.1), -6.2)\n",
    "        self.assertEqual(double(0), 0)\n",
    "\n",
    "# Run all the test cases.\n",
    "if __name__ == \"__main__\":\n",
    "    \n",
    "    unittest.main(argv = [''], verbosity = 2, exit = False)\n",
    "\n",
    "# argv=['']: This prevents unittest.main() from processing the command-line arguments passed by Jupyter.\n",
    "# verbosity=2: This provides a detailed output of the test results.\n",
    "# exit=False: This ensures the kernel doesn't terminate after running the tests."
   ]
  }
 ],
 "metadata": {
  "kernelspec": {
   "display_name": "Python 3 (ipykernel)",
   "language": "python",
   "name": "python3"
  },
  "language_info": {
   "codemirror_mode": {
    "name": "ipython",
    "version": 3
   },
   "file_extension": ".py",
   "mimetype": "text/x-python",
   "name": "python",
   "nbconvert_exporter": "python",
   "pygments_lexer": "ipython3",
   "version": "3.9.13"
  }
 },
 "nbformat": 4,
 "nbformat_minor": 5
}
